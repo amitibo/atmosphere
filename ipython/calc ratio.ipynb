{
 "metadata": {
  "name": ""
 },
 "nbformat": 3,
 "nbformat_minor": 0,
 "worksheets": [
  {
   "cells": [
    {
     "cell_type": "code",
     "collapsed": false,
     "input": [
      "import scipy.io as sio\n",
      "import atmotomo\n",
      "import os\n",
      "import glob\n",
      "\n",
      "\n",
      "def getSingleMatList(path):\n",
      "    \n",
      "    path = os.path.abspath(path)\n",
      "    files_list = glob.glob(os.path.join(path, \"sim_img*.mat\"))\n",
      "    files_list.sort()\n",
      "    \n",
      "    img_list = []\n",
      "    for img_path in files_list:\n",
      "        try:\n",
      "            data = sio.loadmat(img_path)\n",
      "        except:\n",
      "            continue\n",
      "        \n",
      "        img_list.append(data['img'])\n",
      "        \n",
      "    return img_list\n",
      "\n",
      "\n",
      "def calcRatio(ref_img, single_img, sun_mask):\n",
      "    #\n",
      "    # Calc a joint mask\n",
      "    #\n",
      "    mask = (ref_img > 0) * (single_img > 0)\n",
      "\n",
      "    ref_img = ref_img * sun_mask\n",
      "    single_img = single_img * sun_mask\n",
      "    \n",
      "    ratio = ref_img[mask].mean() / single_img[mask].mean()\n",
      "\n",
      "    return ratio\n",
      "\n",
      "\n",
      "def compareImgs(mc_imgs, single_imgs, apply_mask=False):\n",
      "\n",
      "    #\n",
      "    # Calculate a basic ratio\n",
      "    #\n",
      "    means = []\n",
      "    for mc_img, single_img in zip(mc_imgs, single_imgs):\n",
      "        means.append(calcRatio(mc_img, single_img, sun_mask=1))\n",
      "    \n",
      "    if not apply_mask:\n",
      "        return means\n",
      "    \n",
      "    #\n",
      "    # Calculate a mask\n",
      "    #\n",
      "    ratio = np.array(means).mean()\n",
      "    err_imgs = []\n",
      "    for mc_img, single_img in zip(mc_imgs, single_imgs):\n",
      "        err_imgs.append(mc_img/ratio - single_img)\n",
      "\n",
      "    std = np.dstack(err_imgs).std(axis=2)\n",
      "    mask = np.exp(-std)\n",
      "    mask = np.tile(mask[:, :, np.newaxis], (1, 1, 3))\n",
      "          \n",
      "    #\n",
      "    # Recalculate the means\n",
      "    #\n",
      "    means = []\n",
      "    for mc_img, single_img in zip(mc_imgs, single_imgs):\n",
      "        means.append(calcRatio(mc_img, single_img, sun_mask=mask))\n",
      "        \n",
      "    return means\n",
      "\n",
      "\n",
      "def processSimulations(apply_mask=False):\n",
      "    \n",
      "    mc_base_path = '../data/monte_carlo_simulations'\n",
      "    single_base_path = '../data/single_scatter_simulations'\n",
      "    \n",
      "    folders_base = (\n",
      "        'front_%s_density_medium_resolution',\n",
      "        'front_%s_density_mediumhigh_resolution',\n",
      "        'high_cloud_%s_density_medium_resolution',\n",
      "        'low_cloud_%s_density_medium_resolution',\n",
      "        'two_clouds_%s_density_medium_resolution',\n",
      "        'two_clouds_%s_density_high_resolution',\n",
      "        'two_clouds_%s_density_mediumhigh_resolution',\n",
      "        'two_clouds_%s_density_mediumhigh_resolution_smooth',\n",
      "    )\n",
      "    \n",
      "    folders = []\n",
      "    for folder in folders_base:\n",
      "        for density in ['high', 'low']:\n",
      "            folders.append(folder % density)\n",
      "        \n",
      "    folders.append('two_clouds_highx10_density_mediumhigh_resolution_smooth')\n",
      "    folders.append('two_clouds_high_density_mediumhigh_resolution_particle_14_smooth')\n",
      "    \n",
      "    means_list = []\n",
      "    for folder in folders:\n",
      "        try:\n",
      "            mc_path = os.path.abspath(os.path.join(mc_base_path, folder))\n",
      "            single_path = os.path.abspath(os.path.join(single_base_path, folder))\n",
      "        \n",
      "            mc_imgs, cameras = atmotomo.loadVadimData(mc_path, remove_sunspot=False)\n",
      "            single_imgs = getSingleMatList(single_path)\n",
      "            \n",
      "            means = compareImgs(mc_imgs, single_imgs, apply_mask=apply_mask)\n",
      "            means_list.append(means)\n",
      "            \n",
      "            print folder, 'ratio: %g' % np.array(means).mean()\n",
      "        except:\n",
      "            print folder, 'FAILED'\n",
      "            \n",
      "    print '\\nMEAN:', np.concatenate(means_list).mean()\n",
      "        "
     ],
     "language": "python",
     "metadata": {},
     "outputs": [],
     "prompt_number": 3
    },
    {
     "cell_type": "code",
     "collapsed": false,
     "input": [
      "processSimulations(apply_mask=False)"
     ],
     "language": "python",
     "metadata": {},
     "outputs": [
      {
       "output_type": "stream",
       "stream": "stdout",
       "text": [
        "front_high_density_medium_resolution ratio: 41.5029\n",
        "front_low_density_medium_resolution"
       ]
      },
      {
       "output_type": "stream",
       "stream": "stdout",
       "text": [
        " ratio: 40.1582\n",
        "front_high_density_mediumhigh_resolution"
       ]
      },
      {
       "output_type": "stream",
       "stream": "stdout",
       "text": [
        " ratio: 41.4556\n",
        "front_low_density_mediumhigh_resolution"
       ]
      },
      {
       "output_type": "stream",
       "stream": "stdout",
       "text": [
        " ratio: 40.2946\n",
        "high_cloud_high_density_medium_resolution"
       ]
      },
      {
       "output_type": "stream",
       "stream": "stdout",
       "text": [
        " ratio: 40.0396\n",
        "high_cloud_low_density_medium_resolution"
       ]
      },
      {
       "output_type": "stream",
       "stream": "stdout",
       "text": [
        " ratio: 40.0013\n",
        "low_cloud_high_density_medium_resolution"
       ]
      },
      {
       "output_type": "stream",
       "stream": "stdout",
       "text": [
        " ratio: 39.2354\n",
        "low_cloud_low_density_medium_resolution"
       ]
      },
      {
       "output_type": "stream",
       "stream": "stdout",
       "text": [
        " ratio: 39.8633\n",
        "two_clouds_high_density_medium_resolution"
       ]
      },
      {
       "output_type": "stream",
       "stream": "stdout",
       "text": [
        " ratio: 39.2888\n",
        "two_clouds_low_density_medium_resolution"
       ]
      },
      {
       "output_type": "stream",
       "stream": "stdout",
       "text": [
        " ratio: 39.8824\n",
        "two_clouds_high_density_high_resolution"
       ]
      },
      {
       "output_type": "stream",
       "stream": "stdout",
       "text": [
        " ratio: 40.0821\n",
        "two_clouds_low_density_high_resolution"
       ]
      },
      {
       "output_type": "stream",
       "stream": "stdout",
       "text": [
        " ratio: 40.0821\n",
        "two_clouds_high_density_mediumhigh_resolution"
       ]
      },
      {
       "output_type": "stream",
       "stream": "stdout",
       "text": [
        " ratio: 39.8382\n",
        "two_clouds_low_density_mediumhigh_resolution FAILED\n",
        "two_clouds_high_density_mediumhigh_resolution_smooth"
       ]
      },
      {
       "output_type": "stream",
       "stream": "stdout",
       "text": [
        " ratio: 39.8582\n",
        "two_clouds_low_density_mediumhigh_resolution_smooth FAILED\n",
        "two_clouds_highx10_density_mediumhigh_resolution_smooth"
       ]
      },
      {
       "output_type": "stream",
       "stream": "stdout",
       "text": [
        " ratio: 39.4143\n",
        "two_clouds_high_density_mediumhigh_resolution_particle_14_smooth"
       ]
      },
      {
       "output_type": "stream",
       "stream": "stdout",
       "text": [
        " ratio: 39.1209\n",
        "\n",
        "MEAN: 40.0300270437\n"
       ]
      }
     ],
     "prompt_number": 4
    },
    {
     "cell_type": "code",
     "collapsed": false,
     "input": [
      "processSimulations(apply_mask=True)"
     ],
     "language": "python",
     "metadata": {},
     "outputs": [
      {
       "output_type": "stream",
       "stream": "stdout",
       "text": [
        "front_high_density_medium_resolution ratio: 44.175\n",
        "front_low_density_medium_resolution ratio: 40.7079\n",
        "front_high_density_mediumhigh_resolution"
       ]
      },
      {
       "output_type": "stream",
       "stream": "stdout",
       "text": [
        " ratio: 43.4988\n",
        "front_low_density_mediumhigh_resolution"
       ]
      },
      {
       "output_type": "stream",
       "stream": "stdout",
       "text": [
        " ratio: 40.6976\n",
        "high_cloud_high_density_medium_resolution ratio: 40.5956\n",
        "high_cloud_low_density_medium_resolution ratio: 40.4506\n",
        "low_cloud_high_density_medium_resolution ratio: 41.4729\n",
        "low_cloud_low_density_medium_resolution"
       ]
      },
      {
       "output_type": "stream",
       "stream": "stdout",
       "text": [
        " ratio: 40.3729\n",
        "two_clouds_high_density_medium_resolution ratio: 41.6583\n",
        "two_clouds_low_density_medium_resolution ratio: 40.387\n",
        "two_clouds_high_density_high_resolution"
       ]
      },
      {
       "output_type": "stream",
       "stream": "stdout",
       "text": [
        " ratio: 41.1616\n",
        "two_clouds_low_density_high_resolution"
       ]
      },
      {
       "output_type": "stream",
       "stream": "stdout",
       "text": [
        " ratio: 41.1107\n",
        "two_clouds_high_density_mediumhigh_resolution"
       ]
      },
      {
       "output_type": "stream",
       "stream": "stdout",
       "text": [
        " ratio: 41.3836\n",
        "two_clouds_low_density_mediumhigh_resolution FAILED\n",
        "two_clouds_high_density_mediumhigh_resolution_smooth"
       ]
      },
      {
       "output_type": "stream",
       "stream": "stdout",
       "text": [
        " ratio: 41.3181\n",
        "two_clouds_low_density_mediumhigh_resolution_smooth FAILED\n",
        "two_clouds_highx10_density_mediumhigh_resolution_smooth"
       ]
      },
      {
       "output_type": "stream",
       "stream": "stdout",
       "text": [
        " ratio: 47.2858\n",
        "two_clouds_high_density_mediumhigh_resolution_particle_14_smooth"
       ]
      },
      {
       "output_type": "stream",
       "stream": "stdout",
       "text": [
        " ratio: 40.6485\n",
        "\n",
        "MEAN: 41.7180695045\n"
       ]
      }
     ],
     "prompt_number": 5
    },
    {
     "cell_type": "code",
     "collapsed": false,
     "input": [],
     "language": "python",
     "metadata": {},
     "outputs": []
    }
   ],
   "metadata": {}
  }
 ]
}