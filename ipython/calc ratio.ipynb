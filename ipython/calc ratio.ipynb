{
 "metadata": {
  "name": ""
 },
 "nbformat": 3,
 "nbformat_minor": 0,
 "worksheets": [
  {
   "cells": [
    {
     "cell_type": "code",
     "collapsed": false,
     "input": [
      "import scipy.io as sio\n",
      "import atmotomo\n",
      "import os\n",
      "import glob\n",
      "\n",
      "\n",
      "def getSingleMatList(path):\n",
      "    \n",
      "    path = os.path.abspath(path)\n",
      "    files_list = glob.glob(os.path.join(path, \"sim_img*.mat\"))\n",
      "    files_list.sort()\n",
      "    \n",
      "    img_list = []\n",
      "    for img_path in files_list:\n",
      "        try:\n",
      "            data = sio.loadmat(img_path)\n",
      "        except:\n",
      "            continue\n",
      "        \n",
      "        img_list.append(data['img'])\n",
      "        \n",
      "    return img_list\n",
      "\n",
      "\n",
      "def calcRatio(ref_img, single_img, sun_mask):\n",
      "    #\n",
      "    # Calc a joint mask\n",
      "    #\n",
      "    mask = (ref_img > 0) * (single_img > 0)\n",
      "\n",
      "    ref_img = ref_img * sun_mask\n",
      "    single_img = single_img * sun_mask\n",
      "    \n",
      "    ratio = ref_img[mask].mean() / single_img[mask].mean()\n",
      "\n",
      "    return ratio\n",
      "\n",
      "\n",
      "def compareImgs(mc_imgs, single_imgs):\n",
      "\n",
      "    #\n",
      "    # Calculate a basic ratio\n",
      "    #\n",
      "    means = []\n",
      "    for mc_img, single_img in zip(mc_imgs, single_imgs):\n",
      "        means.append(calcRatio(mc_img, single_img, sun_mask=1))\n",
      "        \n",
      "    ratio = np.array(means).mean()\n",
      "    \n",
      "    #\n",
      "    # Calculate a mask\n",
      "    #\n",
      "    err_imgs = []\n",
      "    for mc_img, single_img in zip(mc_imgs, single_imgs):\n",
      "        err_imgs.append(mc_img/ratio - single_img)\n",
      "\n",
      "    std = np.dstack(err_imgs).std(axis=2)\n",
      "    mask = np.exp(-std)\n",
      "    mask = np.tile(mask[:, :, np.newaxis], (1, 1, 3))\n",
      "          \n",
      "    #\n",
      "    # Recalculate the means\n",
      "    #\n",
      "    means = []\n",
      "    for mc_img, single_img in zip(mc_imgs, single_imgs):\n",
      "        means.append(calcRatio(mc_img, single_img, sun_mask=mask))\n",
      "        \n",
      "    return means\n",
      "\n",
      "\n",
      "def processSimulations():\n",
      "    \n",
      "    mc_base_path = '../data/monte_carlo_simulations'\n",
      "    single_base_path = '../data/single_scatter_simulations'\n",
      "    \n",
      "    folders = (\n",
      "        'front_%s_density_medium_resolution',\n",
      "        'front_%s_density_mediumhigh_resolution',\n",
      "        'high_cloud_%s_density_medium_resolution',\n",
      "        'low_cloud_%s_density_medium_resolution',\n",
      "        'two_clouds_%s_density_medium_resolution',\n",
      "        'two_clouds_%s_density_high_resolution',\n",
      "        'two_clouds_%s_density_mediumhigh_resolution',\n",
      "        'two_clouds_%s_density_mediumhigh_resolution_smooth',\n",
      "    )\n",
      "    \n",
      "    means_list = []\n",
      "    for folder in folders:\n",
      "        figure(figsize=(12, 6))\n",
      "        \n",
      "        for i, density in enumerate(['high', 'low']):\n",
      "            try:\n",
      "                mc_path = os.path.abspath(os.path.join(mc_base_path, folder % density))\n",
      "                single_path = os.path.abspath(os.path.join(single_base_path, folder % density))\n",
      "            \n",
      "                mc_imgs, cameras = atmotomo.loadVadimData(mc_path, remove_sunspot=False)\n",
      "                single_imgs = getSingleMatList(single_path)\n",
      "                \n",
      "                means = compareImgs(mc_imgs, single_imgs)\n",
      "                means_list.append(means)\n",
      "                \n",
      "                print folder % density, 'ratio: %g' % np.array(means).mean()\n",
      "                ax = subplot(121+i)\n",
      "                ax.bar(np.arange(len(means)), means, color='r')\n",
      "                title(folder % density)\n",
      "            except:\n",
      "                print 'failed ' + folder % density\n",
      "            \n",
      "    print np.concatenate(means_list).mean()\n",
      "        "
     ],
     "language": "python",
     "metadata": {},
     "outputs": [
      {
       "output_type": "stream",
       "stream": "stderr",
       "text": [
        "C:\\Users\\amitibo\\AppData\\Local\\Enthought\\Canopy\\App\\appdata\\canopy-1.0.3.1262.win-x86_64\\lib\\site-packages\\matplotlib\\__init__.py:1033: UserWarning:  This call to matplotlib.use() has no effect\n",
        "because the the backend has already been chosen;\n",
        "matplotlib.use() must be called *before* pylab, matplotlib.pyplot,\n",
        "or matplotlib.backends is imported for the first time.\n",
        "\n",
        "  warnings.warn(_use_error_msg)\n"
       ]
      }
     ],
     "prompt_number": 1
    },
    {
     "cell_type": "code",
     "collapsed": false,
     "input": [
      "processSimulations()"
     ],
     "language": "python",
     "metadata": {},
     "outputs": [
      {
       "output_type": "stream",
       "stream": "stdout",
       "text": [
        "front_high_density_medium_resolution ratio: 44.175\n",
        "front_low_density_medium_resolution"
       ]
      },
      {
       "output_type": "stream",
       "stream": "stdout",
       "text": [
        " ratio: 40.7079\n",
        "front_high_density_mediumhigh_resolution"
       ]
      },
      {
       "output_type": "stream",
       "stream": "stdout",
       "text": [
        " ratio: 43.4988\n",
        "front_low_density_mediumhigh_resolution"
       ]
      },
      {
       "output_type": "stream",
       "stream": "stdout",
       "text": [
        " ratio: 40.6976\n",
        "high_cloud_high_density_medium_resolution"
       ]
      },
      {
       "output_type": "stream",
       "stream": "stdout",
       "text": [
        " ratio: 40.5956\n",
        "high_cloud_low_density_medium_resolution"
       ]
      },
      {
       "output_type": "stream",
       "stream": "stdout",
       "text": [
        " ratio: 40.4506\n",
        "low_cloud_high_density_medium_resolution"
       ]
      },
      {
       "output_type": "stream",
       "stream": "stdout",
       "text": [
        " ratio: 41.4729\n",
        "low_cloud_low_density_medium_resolution"
       ]
      },
      {
       "output_type": "stream",
       "stream": "stdout",
       "text": [
        " ratio: 40.3729\n",
        "two_clouds_high_density_medium_resolution"
       ]
      },
      {
       "output_type": "stream",
       "stream": "stdout",
       "text": [
        " ratio: 41.6583\n",
        "two_clouds_low_density_medium_resolution"
       ]
      },
      {
       "output_type": "stream",
       "stream": "stdout",
       "text": [
        " ratio: 40.387\n",
        "two_clouds_high_density_high_resolution"
       ]
      },
      {
       "output_type": "stream",
       "stream": "stdout",
       "text": [
        " ratio: 41.1616\n",
        "two_clouds_low_density_high_resolution"
       ]
      },
      {
       "output_type": "stream",
       "stream": "stdout",
       "text": [
        " ratio: 41.1107\n",
        "two_clouds_high_density_mediumhigh_resolution"
       ]
      },
      {
       "output_type": "stream",
       "stream": "stdout",
       "text": [
        " ratio: 41.3836\n",
        "failed two_clouds_low_density_mediumhigh_resolution"
       ]
      },
      {
       "output_type": "stream",
       "stream": "stdout",
       "text": [
        "\n",
        "two_clouds_high_density_mediumhigh_resolution_smooth"
       ]
      },
      {
       "output_type": "stream",
       "stream": "stdout",
       "text": [
        " ratio: 41.3181\n",
        "failed two_clouds_low_density_mediumhigh_resolution_smooth"
       ]
      },
      {
       "output_type": "stream",
       "stream": "stdout",
       "text": [
        "\n",
        "41.3491987171\n"
       ]
      }
     ],
     "prompt_number": 2
    },
    {
     "cell_type": "code",
     "collapsed": false,
     "input": [],
     "language": "python",
     "metadata": {},
     "outputs": [],
     "prompt_number": 2
    }
   ],
   "metadata": {}
  }
 ]
}